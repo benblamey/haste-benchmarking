{
 "cells": [
  {
   "cell_type": "code",
   "execution_count": 35,
   "metadata": {},
   "outputs": [],
   "source": [
    "import csv\n",
    "import itertools\n",
    "import functools"
   ]
  },
  {
   "cell_type": "code",
   "execution_count": 93,
   "metadata": {},
   "outputs": [],
   "source": [
    "spamReader = csv.DictReader(open('benchmarking-simulator,2018-01-29-b.csv'), delimiter=',')\n",
    "\n",
    "\"\"\"\n",
    "            'benchmarking',\n",
    "            'file',\n",
    "            'topic',\n",
    "            'description',\n",
    "            'started_at_time',\n",
    "            'ended_time',\n",
    "            'duration_secs',\n",
    "            'number_of_bytes'\n",
    "\"\"\"\n",
    "rows = []\n",
    "for row in spamReader:\n",
    "    rows.append(dict(row))\n",
    "    \n",
    "#print(rows)   "
   ]
  },
  {
   "cell_type": "code",
   "execution_count": 102,
   "metadata": {},
   "outputs": [
    {
     "name": "stdout",
     "output_type": "stream",
     "text": [
      "Running the simulator...\n",
      "total time: 45.38119649887085secs\n",
      "durations as % of total streaming time: \n",
      "image_binning 0.0013759404926278853%\n",
      "image_to_bytes 64.32788427624905%\n",
      "prepare_image_bytes_method 68.11610430698585%\n",
      "read_image_from_disk 3.6551057999469525%\n",
      "stream_all_images 100.0%\n",
      "stream_file 20.374065210248805%\n",
      "\n",
      "Completion of all processing...\n",
      "total processing time: 76.47460508346558 secs\n",
      "total processing time per image: 0.15294921016693117 secs\n"
     ]
    }
   ],
   "source": [
    "rows.sort(key=lambda row: row['topic'])\n",
    "grouped_by_topic = itertools.groupby(rows, lambda row: row['topic'])\n",
    "\n",
    "totals = {}\n",
    "\n",
    "for (topic, group) in grouped_by_topic:\n",
    "    #print(topic)\n",
    "    durations = list(map(lambda x: float(x['duration_secs']), group))\n",
    "    #print(durations)\n",
    "    \n",
    "    #print ('total durations: ')\n",
    "    total_duration = functools.reduce(lambda x, y: x + y, durations)\n",
    "    totals[topic] = total_duration\n",
    "\n",
    "#print(totals)\n",
    "\n",
    "print(\"Running the simulator...\")\n",
    "total = totals['stream_all_images']\n",
    "print('total time: ' + str(total) + 'secs')\n",
    "\n",
    "print('durations as % of total streaming time: ')\n",
    "for k,v in totals.items():\n",
    "    if k == 'full': # exclude waiting for processing.\n",
    "        continue\n",
    "    print(k + ' '+ str(v / total * 100) + '%')\n",
    "\n",
    "print()\n",
    "print(\"Completion of all processing...\")\n",
    "print('total processing time: ' + str(totals['full']) + ' secs')\n",
    "# Assuming single processing node\n",
    "print('total processing time per image: ' + str(totals['full']/500) + ' secs')"
   ]
  },
  {
   "cell_type": "code",
   "execution_count": null,
   "metadata": {},
   "outputs": [],
   "source": []
  }
 ],
 "metadata": {
  "kernelspec": {
   "display_name": "Python 3",
   "language": "python",
   "name": "python3"
  },
  "language_info": {
   "codemirror_mode": {
    "name": "ipython",
    "version": 3
   },
   "file_extension": ".py",
   "mimetype": "text/x-python",
   "name": "python",
   "nbconvert_exporter": "python",
   "pygments_lexer": "ipython3",
   "version": "3.6.3"
  }
 },
 "nbformat": 4,
 "nbformat_minor": 2
}
